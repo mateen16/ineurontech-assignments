{
 "cells": [
  {
   "cell_type": "markdown",
   "metadata": {},
   "source": [
    "#### Assignment1-Task1- 2. Write a program which will find all such numbers which are divisible by 7 but are not a multiple of 5, between 2000 and 3200 (both included). The numbers obtained should be printed in a comma-separated sequence on a single line. "
   ]
  },
  {
   "cell_type": "code",
   "execution_count": 50,
   "metadata": {},
   "outputs": [
    {
     "name": "stdout",
     "output_type": "stream",
     "text": [
      "2002,2009,2016,2023,2037,2044,2051,2058,2072,2079,2086,2093,2107,2114,2121,2128,2142,2149,2156,2163,2177,2184,2191,2198,2212,2219,2226,2233,2247,2254,2261,2268,2282,2289,2296,2303,2317,2324,2331,2338,2352,2359,2366,2373,2387,2394,2401,2408,2422,2429,2436,2443,2457,2464,2471,2478,2492,2499,2506,2513,2527,2534,2541,2548,2562,2569,2576,2583,2597,2604,2611,2618,2632,2639,2646,2653,2667,2674,2681,2688,2702,2709,2716,2723,2737,2744,2751,2758,2772,2779,2786,2793,2807,2814,2821,2828,2842,2849,2856,2863,2877,2884,2891,2898,2912,2919,2926,2933,2947,2954,2961,2968,2982,2989,2996,3003,3017,3024,3031,3038,3052,3059,3066,3073,3087,3094,3101,3108,3122,3129,3136,3143,3157,3164,3171,3178,3192,3199"
     ]
    }
   ],
   "source": [
    "# Program to find all such numbers which are divisible by 7 but are not a multiple of 5, \n",
    "# between 2000 and 3200 (both included). \n",
    "# The numbers obtained should be printed in a comma-separated sequence on a single line.\n",
    "\n",
    "l=[]\n",
    "for j in range(2000,3201):\n",
    "    if((j%7==0) and (j%5 !=0)):\n",
    "        l.append(j)\n",
    "        \n",
    "for k in range(len(l)):\n",
    "    print(l[k],end='')\n",
    "    if(k<len(l)-1):\n",
    "        print(',',end='')"
   ]
  },
  {
   "cell_type": "markdown",
   "metadata": {},
   "source": [
    "#### Assignment1-Task1- 3. Write a Python program to accept the user's first and last name and then getting them printed in the reverse order with a space between first name and last name. "
   ]
  },
  {
   "cell_type": "code",
   "execution_count": 52,
   "metadata": {},
   "outputs": [
    {
     "name": "stdout",
     "output_type": "stream",
     "text": [
      "Enter the first name: Sam\n",
      "Enter the last name: Anderson\n",
      "First Name and Last Name in Reverse Order:  nosrednA maS\n"
     ]
    }
   ],
   "source": [
    "# Program to accept the user's first and last name and then getting them printed in the the reverse order \n",
    "# with a space between first name and last name.\n",
    "\n",
    "inp_f_name=input(\"Enter the first name: \")\n",
    "inp_l_name=input(\"Enter the last name: \")\n",
    "\n",
    "full_name = inp_f_name +\" \"+inp_l_name\n",
    "print(\"First Name and Last Name in Reverse Order: \", full_name[::-1])\n",
    "  "
   ]
  },
  {
   "cell_type": "markdown",
   "metadata": {},
   "source": [
    "#### Assignment1-Task1- 4. Write a Python program to find the volume of a sphere with diameter 12 cm. \n",
    "#### Formula: V=4/3 * π * r 3"
   ]
  },
  {
   "cell_type": "code",
   "execution_count": 22,
   "metadata": {},
   "outputs": [
    {
     "name": "stdout",
     "output_type": "stream",
     "text": [
      "The volume of the sphere is  904.7786842338603\n"
     ]
    }
   ],
   "source": [
    "# Program to find the volume of a sphere with diameter 12 cm.\n",
    "from math import pi,pow\n",
    "\n",
    "diameter = 12\n",
    "radius = diameter/2\n",
    "\n",
    "volume = (4/3) * pi * pow(radius,3)\n",
    "\n",
    "print(\"The volume of the sphere is \", volume)"
   ]
  },
  {
   "cell_type": "markdown",
   "metadata": {},
   "source": [
    "#### Assignment1-Task2- 1. Write a program which accepts a sequence of comma-separated numbers from console and generate a list.\n"
   ]
  },
  {
   "cell_type": "code",
   "execution_count": 2,
   "metadata": {
    "scrolled": false
   },
   "outputs": [
    {
     "name": "stdout",
     "output_type": "stream",
     "text": [
      "Enter the the list of numbers followed by ,2,3,5\n",
      "[2, 3, 5]\n"
     ]
    }
   ],
   "source": [
    "# Program which accepts a sequence of comma-separated numbers from console and generate a list\n",
    "\n",
    "a = [int(x) for x in input(\"Enter the the sequence of numbers followed by ,\").split(',')]\n",
    "print(a)"
   ]
  },
  {
   "cell_type": "markdown",
   "metadata": {},
   "source": [
    "#### Assignment1-Task2- 2. Create the below pattern using nested for loop in Python. \n",
    " "
   ]
  },
  {
   "cell_type": "markdown",
   "metadata": {},
   "source": [
    "*\n",
    "* *\n",
    "* * *\n",
    "* * * *\n",
    "* * * * *\n",
    "* * * *\n",
    "* * *\n",
    "* *\n",
    "*"
   ]
  },
  {
   "cell_type": "markdown",
   "metadata": {},
   "source": [
    "# Program to print the above pattern using nested for loop in Python.\n",
    "\n"
   ]
  },
  {
   "cell_type": "code",
   "execution_count": 1,
   "metadata": {},
   "outputs": [
    {
     "name": "stdout",
     "output_type": "stream",
     "text": [
      "\n",
      "* \n",
      "* * \n",
      "* * * \n",
      "* * * * \n",
      "* * * * * \n",
      "* * * * \n",
      "* * * \n",
      "* * \n",
      "* \n",
      "\n"
     ]
    }
   ],
   "source": [
    "pattern = '*'\n",
    "l=5\n",
    "\n",
    "for i in range(l+1):\n",
    "    for j in range(i):\n",
    "        print(pattern,end=' ')\n",
    "    print()\n",
    "for m in range(l):\n",
    "    for n in range(l-m-1):\n",
    "        print(pattern,end=' ')\n",
    "    print()"
   ]
  },
  {
   "cell_type": "markdown",
   "metadata": {},
   "source": [
    "#### Assignment1-Task2- 3. Create the below pattern using nested for loop in Python. "
   ]
  },
  {
   "cell_type": "code",
   "execution_count": 46,
   "metadata": {},
   "outputs": [
    {
     "name": "stdout",
     "output_type": "stream",
     "text": [
      "Enter the word: AcadGlid\n",
      "dilGdacA"
     ]
    }
   ],
   "source": [
    "# Write a Python program to reverse a word after accepting the input from the user\n",
    "\n",
    "user_inp = input(\"Enter the word: \")\n",
    "\n",
    "print(user_inp[::-1], end='')"
   ]
  },
  {
   "cell_type": "markdown",
   "metadata": {},
   "source": [
    "#### Assignment1-Task2- 4. Write a Python Program to print the given string in the format specified in the ​sample output.WE, THE PEOPLE OF INDIA, having solemnly resolved to constitute India into a SOVEREIGN, SOCIALIST, SECULAR, DEMOCRATIC REPUBLIC and to secure to all its citizens"
   ]
  },
  {
   "cell_type": "markdown",
   "metadata": {},
   "source": [
    "Sample Output:\n",
    "WE, THE PEOPLE OF INDIA,\n",
    "    having solemnly resolved to constitute India into a SOVEREIGN, !\n",
    "        SOCIALIST, SECULAR, DEMOCRATIC REPUBLIC\n",
    "          and to secure to all its citizen"
   ]
  },
  {
   "cell_type": "code",
   "execution_count": 52,
   "metadata": {},
   "outputs": [
    {
     "name": "stdout",
     "output_type": "stream",
     "text": [
      "\n",
      "WE, THE PEOPLE OF INDIA\n",
      "\thaving solemnly resolved to constitute India into a SOVEREIGN, !\n",
      "\t SOCIALIST, SECULAR, DEMOCRATIC REPUBLIC \n",
      "\t   and to secure to all its citizens\n",
      "\n",
      "\n"
     ]
    }
   ],
   "source": [
    "text=\"\"\"\n",
    "WE, THE PEOPLE OF INDIA\\n\\thaving solemnly resolved to constitute India into a SOVEREIGN, !\\n\\t SOCIALIST, SECULAR, DEMOCRATIC REPUBLIC \\n\\t   and to secure to all its citizens\n",
    "\n",
    "\"\"\"\n",
    "print(text)"
   ]
  }
 ],
 "metadata": {
  "kernelspec": {
   "display_name": "Python 3",
   "language": "python",
   "name": "python3"
  },
  "language_info": {
   "codemirror_mode": {
    "name": "ipython",
    "version": 3
   },
   "file_extension": ".py",
   "mimetype": "text/x-python",
   "name": "python",
   "nbconvert_exporter": "python",
   "pygments_lexer": "ipython3",
   "version": "3.7.3"
  }
 },
 "nbformat": 4,
 "nbformat_minor": 2
}
